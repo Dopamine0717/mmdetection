{
 "cells": [
  {
   "cell_type": "markdown",
   "metadata": {},
   "source": [
    "##### 测试一下CrossEntropy Loss的weight参数"
   ]
  },
  {
   "cell_type": "code",
   "execution_count": 5,
   "metadata": {},
   "outputs": [
    {
     "name": "stdout",
     "output_type": "stream",
     "text": [
      "tensor([ 9.0441, 15.0997,  8.1211,  1.2176,  7.3082,  0.6350,  3.0029,  5.9526,\n",
      "         2.6456,  6.2104], grad_fn=<NllLossBackward0>) tensor(5.9237, grad_fn=<MeanBackward0>)\n"
     ]
    }
   ],
   "source": [
    "import torch\n",
    "import torch.nn as nn\n",
    "\n",
    "batch_size = 10\n",
    "nb_classes = 2\n",
    "\n",
    "model = nn.Linear(10, nb_classes)\n",
    "weight_list = [1.0, 10.0]\n",
    "weight = torch.tensor(weight_list)\n",
    "\n",
    "criterion = nn.CrossEntropyLoss(weight=weight, reduction='none')\n",
    "\n",
    "x = torch.randn(batch_size, 10)\n",
    "target = torch.empty(batch_size, dtype=torch.long).random_(nb_classes)\n",
    "\n",
    "output = model(x)\n",
    "loss = criterion(output, target)\n",
    "print(loss, loss.mean())\n",
    "loss.mean().backward()"
   ]
  }
 ],
 "metadata": {
  "interpreter": {
   "hash": "49b740c179463132650872957c0fae3a317be5f81cf6e33f46a75af89074968d"
  },
  "kernelspec": {
   "display_name": "Python 3.8.12 ('mmdet')",
   "language": "python",
   "name": "python3"
  },
  "language_info": {
   "codemirror_mode": {
    "name": "ipython",
    "version": 3
   },
   "file_extension": ".py",
   "mimetype": "text/x-python",
   "name": "python",
   "nbconvert_exporter": "python",
   "pygments_lexer": "ipython3",
   "version": "3.8.12"
  },
  "orig_nbformat": 4
 },
 "nbformat": 4,
 "nbformat_minor": 2
}
