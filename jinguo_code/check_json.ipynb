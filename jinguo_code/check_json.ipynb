{
 "cells": [
  {
   "cell_type": "code",
   "execution_count": 1,
   "metadata": {},
   "outputs": [
    {
     "name": "stdout",
     "output_type": "stream",
     "text": [
      "/shared/xjd/chenchao/mmdetection/jinguo_code\n"
     ]
    }
   ],
   "source": [
    "import os  \n",
    "print(os.getcwd())"
   ]
  },
  {
   "cell_type": "code",
   "execution_count": 3,
   "metadata": {},
   "outputs": [],
   "source": [
    "import json\n",
    "\n",
    "json_path = '/shared/xjd/chenchao/dataset/coco_custom/transmission_line_detection/annotations/instances_train.json'\n",
    "\n",
    "with open(json_path, 'r') as f:\n",
    "    anno_info = json.load(f)"
   ]
  },
  {
   "cell_type": "code",
   "execution_count": 5,
   "metadata": {},
   "outputs": [
    {
     "data": {
      "text/plain": [
       "{'file_name': 'DiaoChe00001.jpg', 'height': 900, 'width': 1200, 'id': 1}"
      ]
     },
     "execution_count": 5,
     "metadata": {},
     "output_type": "execute_result"
    }
   ],
   "source": [
    "images_info = anno_info['images']\n",
    "images_info[0]\n",
    "\n"
   ]
  },
  {
   "cell_type": "code",
   "execution_count": 6,
   "metadata": {},
   "outputs": [],
   "source": [
    "imagesname = [anno['file_name'] for anno in images_info]\n",
    "imagesid = [anno['id'] for anno in images_info]"
   ]
  },
  {
   "cell_type": "code",
   "execution_count": 10,
   "metadata": {},
   "outputs": [],
   "source": [
    "idset = set(imagesid)"
   ]
  }
 ],
 "metadata": {
  "interpreter": {
   "hash": "49b740c179463132650872957c0fae3a317be5f81cf6e33f46a75af89074968d"
  },
  "kernelspec": {
   "display_name": "Python 3.8.12 64-bit ('mmdet': conda)",
   "language": "python",
   "name": "python3"
  },
  "language_info": {
   "codemirror_mode": {
    "name": "ipython",
    "version": 3
   },
   "file_extension": ".py",
   "mimetype": "text/x-python",
   "name": "python",
   "nbconvert_exporter": "python",
   "pygments_lexer": "ipython3",
   "version": "3.8.12"
  },
  "orig_nbformat": 4
 },
 "nbformat": 4,
 "nbformat_minor": 2
}
