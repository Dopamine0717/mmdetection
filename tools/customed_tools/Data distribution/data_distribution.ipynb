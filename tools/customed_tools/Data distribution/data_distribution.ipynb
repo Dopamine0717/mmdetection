{
 "cells": [
  {
   "cell_type": "markdown",
   "metadata": {},
   "source": [
    "##### 导入相应的库"
   ]
  },
  {
   "cell_type": "code",
   "execution_count": 3,
   "metadata": {},
   "outputs": [],
   "source": [
    "import os\n",
    "import random\n",
    "import shutil"
   ]
  },
  {
   "cell_type": "markdown",
   "metadata": {},
   "source": [
    "##### 定义文件夹路径以及分配数量"
   ]
  },
  {
   "cell_type": "code",
   "execution_count": 4,
   "metadata": {},
   "outputs": [],
   "source": [
    "filelist = os.listdir('C:/Users/陈超/Desktop/第三批杆塔数据标注/test')\n",
    "interval = 600\n",
    "xiaohan = filelist[:interval]    # 这里之所以都是0：500，是因为是将文件进行一动而不是将文件复制\n",
    "yukun = filelist[interval:interval*2]\n",
    "haichen = filelist[interval*2:interval*3]\n",
    "mingxuan = filelist[interval*3:interval*4]\n",
    "zhaoshuang = filelist[interval*4:interval*5]\n",
    "guoyu = filelist[interval*5:]\n",
    "\n",
    "images_path = 'C:/Users/陈超/Desktop/第三批杆塔数据标注/test'\n",
    "anno_path = 'C:/Users/陈超/Desktop/第三批杆塔数据标注/test_xml'"
   ]
  },
  {
   "cell_type": "markdown",
   "metadata": {},
   "source": [
    "##### 分配给每个人"
   ]
  },
  {
   "cell_type": "code",
   "execution_count": 5,
   "metadata": {},
   "outputs": [
    {
     "name": "stdout",
     "output_type": "stream",
     "text": [
      "Finished!\n",
      "Finished!\n",
      "Finished!\n",
      "Finished!\n",
      "Finished!\n",
      "Finished!\n"
     ]
    }
   ],
   "source": [
    "for filename in xiaohan:\n",
    "    name = filename[:-4]\n",
    "    img_path = 'C:/Users/陈超/Desktop/第三批杆塔数据标注/数据分配/晓涵'\n",
    "    xml_path = 'C:/Users/陈超/Desktop/第三批杆塔数据标注/数据分配/晓涵_xml'\n",
    "\n",
    "    jpg_src = name + '.jpg'\n",
    "    xml_src = name + '.xml'\n",
    "\n",
    "    if not os.path.exists(img_path):\n",
    "        os.makedirs(img_path)\n",
    "    if not os.path.exists(xml_path):\n",
    "        os.makedirs(xml_path)\n",
    "\n",
    "    shutil.move(os.path.join(images_path, jpg_src), img_path)\n",
    "    shutil.move(os.path.join(anno_path, xml_src), xml_path)\n",
    "print('Finished!')\n",
    "\n",
    "for filename in yukun:\n",
    "    name = filename[:-4]\n",
    "    img_path = 'C:/Users/陈超/Desktop/第三批杆塔数据标注/数据分配/玉坤'\n",
    "    xml_path = 'C:/Users/陈超/Desktop/第三批杆塔数据标注/数据分配/玉坤_xml'\n",
    "\n",
    "    jpg_src = name + '.jpg'\n",
    "    xml_src = name + '.xml'\n",
    "\n",
    "    if not os.path.exists(img_path):\n",
    "        os.makedirs(img_path)\n",
    "    if not os.path.exists(xml_path):\n",
    "        os.makedirs(xml_path)\n",
    "\n",
    "    shutil.move(os.path.join(images_path, jpg_src), img_path)\n",
    "    shutil.move(os.path.join(anno_path, xml_src), xml_path)\n",
    "print('Finished!')\n",
    "\n",
    "for filename in haichen:\n",
    "    name = filename[:-4]\n",
    "    img_path = 'C:/Users/陈超/Desktop/第三批杆塔数据标注/数据分配/海宸'\n",
    "    xml_path = 'C:/Users/陈超/Desktop/第三批杆塔数据标注/数据分配/海宸_xml'\n",
    "\n",
    "    jpg_src = name + '.jpg'\n",
    "    xml_src = name + '.xml'\n",
    "\n",
    "    if not os.path.exists(img_path):\n",
    "        os.makedirs(img_path)\n",
    "    if not os.path.exists(xml_path):\n",
    "        os.makedirs(xml_path)\n",
    "\n",
    "    shutil.move(os.path.join(images_path, jpg_src), img_path)\n",
    "    shutil.move(os.path.join(anno_path, xml_src), xml_path)\n",
    "print('Finished!')\n",
    "\n",
    "for filename in mingxuan:\n",
    "    name = filename[:-4]\n",
    "    img_path = 'C:/Users/陈超/Desktop/第三批杆塔数据标注/数据分配/明轩'\n",
    "    xml_path = 'C:/Users/陈超/Desktop/第三批杆塔数据标注/数据分配/明轩_xml'\n",
    "    jpg_src = name + '.jpg'\n",
    "    xml_src = name + '.xml'\n",
    "\n",
    "    if not os.path.exists(img_path):\n",
    "        os.makedirs(img_path)\n",
    "    if not os.path.exists(xml_path):\n",
    "        os.makedirs(xml_path)\n",
    "\n",
    "    shutil.move(os.path.join(images_path, jpg_src), img_path)\n",
    "    shutil.move(os.path.join(anno_path, xml_src), xml_path)\n",
    "print('Finished!')\n",
    "\n",
    "for filename in zhaoshuang:\n",
    "    name = filename[:-4]\n",
    "    img_path = 'C:/Users/陈超/Desktop/第三批杆塔数据标注/数据分配/赵爽'\n",
    "    xml_path = 'C:/Users/陈超/Desktop/第三批杆塔数据标注/数据分配/赵爽_xml'\n",
    "\n",
    "    jpg_src = name + '.jpg'\n",
    "    xml_src = name + '.xml'\n",
    "\n",
    "    if not os.path.exists(img_path):\n",
    "        os.makedirs(img_path)\n",
    "    if not os.path.exists(xml_path):\n",
    "        os.makedirs(xml_path)\n",
    "\n",
    "    shutil.move(os.path.join(images_path, jpg_src), img_path)\n",
    "    shutil.move(os.path.join(anno_path, xml_src), xml_path)\n",
    "print('Finished!')\n",
    "\n",
    "for filename in guoyu:\n",
    "    name = filename[:-4]\n",
    "    img_path = 'C:/Users/陈超/Desktop/第三批杆塔数据标注/数据分配/国瑜'\n",
    "    xml_path = 'C:/Users/陈超/Desktop/第三批杆塔数据标注/数据分配/国瑜_xml'\n",
    "    jpg_src = name + '.jpg'\n",
    "    xml_src = name + '.xml'\n",
    "\n",
    "    if not os.path.exists(img_path):\n",
    "        os.makedirs(img_path)\n",
    "    if not os.path.exists(xml_path):\n",
    "        os.makedirs(xml_path)\n",
    "\n",
    "    shutil.move(os.path.join(images_path, jpg_src), img_path)\n",
    "    shutil.move(os.path.join(anno_path, xml_src), xml_path)\n",
    "print('Finished!')"
   ]
  },
  {
   "cell_type": "code",
   "execution_count": 8,
   "metadata": {},
   "outputs": [],
   "source": [
    "file_path = [\n",
    "    'C:/Users/陈超/Desktop/第三批杆塔数据标注/数据分配/晓涵',\n",
    "    'C:/Users/陈超/Desktop/第三批杆塔数据标注/数据分配/玉坤',\n",
    "    'C:/Users/陈超/Desktop/第三批杆塔数据标注/数据分配/海宸',\n",
    "    'C:/Users/陈超/Desktop/第三批杆塔数据标注/数据分配/明轩',\n",
    "    'C:/Users/陈超/Desktop/第三批杆塔数据标注/数据分配/赵爽',\n",
    "    'C:/Users/陈超/Desktop/第三批杆塔数据标注/数据分配/国瑜'\n",
    "]\n",
    "xml_save_path = [\n",
    "    'C:/Users/陈超/Desktop/第三批杆塔数据标注/数据分配/晓涵_xml',\n",
    "    'C:/Users/陈超/Desktop/第三批杆塔数据标注/数据分配/玉坤_xml',\n",
    "    'C:/Users/陈超/Desktop/第三批杆塔数据标注/数据分配/海宸_xml',\n",
    "    'C:/Users/陈超/Desktop/第三批杆塔数据标注/数据分配/明轩_xml',\n",
    "    'C:/Users/陈超/Desktop/第三批杆塔数据标注/数据分配/赵爽_xml',\n",
    "    'C:/Users/陈超/Desktop/第三批杆塔数据标注/数据分配/国瑜_xml'\n",
    "]\n",
    "for i in range(len(file_path)):\n",
    "    filelist = os.listdir(file_path[i])\n",
    "    if not os.path.exists(xml_save_path[i]):\n",
    "        os.makedirs(xml_save_path[i])\n",
    "    for filename in filelist:\n",
    "        if filename[-4:] == '.xml':\n",
    "            shutil.move(os.path.join(file_path[i], filename), xml_save_path[i])"
   ]
  }
 ],
 "metadata": {
  "interpreter": {
   "hash": "c51205f17265714c04c5cef09a6617a136cbe43b6fbb555d14e67c19a595607f"
  },
  "kernelspec": {
   "display_name": "Python 3.7.0 ('base')",
   "language": "python",
   "name": "python3"
  },
  "language_info": {
   "codemirror_mode": {
    "name": "ipython",
    "version": 3
   },
   "file_extension": ".py",
   "mimetype": "text/x-python",
   "name": "python",
   "nbconvert_exporter": "python",
   "pygments_lexer": "ipython3",
   "version": "3.7.0"
  },
  "orig_nbformat": 4
 },
 "nbformat": 4,
 "nbformat_minor": 2
}
