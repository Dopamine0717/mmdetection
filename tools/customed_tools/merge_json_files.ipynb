{
 "cells": [
  {
   "cell_type": "code",
   "execution_count": 1,
   "metadata": {},
   "outputs": [
    {
     "name": "stdout",
     "output_type": "stream",
     "text": [
      "4\n"
     ]
    }
   ],
   "source": [
    "import json\n",
    "\n",
    "json_file = '/data/DataSets/transmission_line_detection/train14000.json'\n",
    "with open(json_file, 'r') as f:\n",
    "    json_dict = json.load(f)\n",
    "print(len(json_dict))"
   ]
  },
  {
   "cell_type": "code",
   "execution_count": 2,
   "metadata": {},
   "outputs": [
    {
     "name": "stdout",
     "output_type": "stream",
     "text": [
      "12312\n"
     ]
    }
   ],
   "source": [
    "print(len(json_dict['images']))"
   ]
  },
  {
   "cell_type": "code",
   "execution_count": 6,
   "metadata": {},
   "outputs": [
    {
     "name": "stdout",
     "output_type": "stream",
     "text": [
      "4\n",
      "25484\n",
      "65091\n",
      "[{'supercategory': 'none', 'id': 0, 'name': 'DaoXianYiWu'}, {'supercategory': 'none', 'id': 1, 'name': 'DiaoChe'}, {'supercategory': 'none', 'id': 2, 'name': 'ShiGongJiXie'}, {'supercategory': 'none', 'id': 3, 'name': 'TaDiao'}, {'supercategory': 'none', 'id': 4, 'name': 'YanHuo'}]\n"
     ]
    }
   ],
   "source": [
    "import json\n",
    "json_save_path = '/shared/xjd/DataSets/transmission_line_detection/semi_instances_train_and_train14000_score0.3_use_data2_model.json'\n",
    "with open(json_save_path, 'r') as f:\n",
    "    json_dict = json.load(f)\n",
    "print(len(json_dict))\n",
    "print(len(json_dict['images']))\n",
    "print(len(json_dict['annotations']))\n",
    "print(json_dict['categories'])"
   ]
  },
  {
   "cell_type": "code",
   "execution_count": 5,
   "metadata": {},
   "outputs": [
    {
     "name": "stdout",
     "output_type": "stream",
     "text": [
      "4\n",
      "4\n"
     ]
    }
   ],
   "source": [
    "import json\n",
    "import os\n",
    "\n",
    "json_save_path = '/shared/xjd/DataSets/transmission_line_detection/semi_instances_train_and_train14000_score0.3_use_data2_model.json'\n",
    "json_file1 = '/shared/xjd/chenchao/mmdetection/work_dirs_semi_supervision/train14000_use_data2_model/train14000_score0.3_result2json.bbox.json'\n",
    "with open(json_file1, 'r') as f:\n",
    "    json_dict1 = json.load(f)\n",
    "print(len(json_dict1))\n",
    "json_file2 = '/shared/xjd/DataSets/transmission_line_detection/instances_train.json'\n",
    "with open(json_file2, 'r') as f:\n",
    "    json_dict2 = json.load(f)\n",
    "print(len(json_dict2))\n",
    "\n",
    "json_dict = json_dict1\n",
    "images_len = len(json_dict2['images'])\n",
    "anno_len = len(json_dict2['annotations'])\n",
    "for image_info in json_dict['images']:\n",
    "    image_info['id'] += images_len\n",
    "for annotation in json_dict['annotations']:\n",
    "    annotation['image_id'] += images_len\n",
    "    annotation['id'] += anno_len\n",
    "# print(json_dict['annotations'])\n",
    "\n",
    "json_dict2['images'].extend(json_dict['images'])\n",
    "json_dict2['annotations'].extend(json_dict['annotations'])\n",
    "\n",
    "os.makedirs(os.path.dirname(json_save_path), exist_ok=True)\n",
    "json_fp = open(json_save_path, 'w')\n",
    "json_str = json.dumps(json_dict2, ensure_ascii=False)\n",
    "json_fp.write(json_str)\n",
    "json_fp.close()"
   ]
  },
  {
   "cell_type": "code",
   "execution_count": null,
   "metadata": {},
   "outputs": [],
   "source": [
    "print(type(json_dict2['images']))\n",
    "# print(json_dict2['images'])\n",
    "print(len(json_dict2['images']))\n",
    "print(len(json_dict2['annotations']))\n",
    "for image_info in json_dict1['images']:\n",
    "    print(image_info['id'])\n",
    "    \n",
    "    if image_info['id'] == 5:\n",
    "        break\n",
    "print('*'*20)\n",
    "for annotation in json_dict1['annotations']:\n",
    "    print(annotation['image_id'])\n",
    "    print(annotation['id'])\n",
    "    \n",
    "    if annotation['id'] == 5:\n",
    "        break"
   ]
  }
 ],
 "metadata": {
  "interpreter": {
   "hash": "9eb82d1a29affd3f3fbcd753ea9ad05c78e2429219bfb49bc316d8946b29a5bc"
  },
  "kernelspec": {
   "display_name": "Python 3.7.12 ('mmdet2')",
   "language": "python",
   "name": "python3"
  },
  "language_info": {
   "codemirror_mode": {
    "name": "ipython",
    "version": 3
   },
   "file_extension": ".py",
   "mimetype": "text/x-python",
   "name": "python",
   "nbconvert_exporter": "python",
   "pygments_lexer": "ipython3",
   "version": "3.8.12"
  },
  "orig_nbformat": 4
 },
 "nbformat": 4,
 "nbformat_minor": 2
}
